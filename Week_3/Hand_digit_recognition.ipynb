{
  "nbformat": 4,
  "nbformat_minor": 0,
  "metadata": {
    "colab": {
      "provenance": [],
      "gpuType": "T4"
    },
    "kernelspec": {
      "name": "python3",
      "display_name": "Python 3"
    },
    "language_info": {
      "name": "python"
    },
    "accelerator": "GPU"
  },
  "cells": [
    {
      "cell_type": "markdown",
      "source": [
        " **IMPORT LIBRARIES**"
      ],
      "metadata": {
        "id": "E86D3VketMWm"
      }
    },
    {
      "cell_type": "code",
      "execution_count": 2,
      "metadata": {
        "id": "Nv0jesmJYtHw"
      },
      "outputs": [],
      "source": [
        "from keras.models import Sequential\n",
        "from keras.datasets import mnist\n",
        "from keras.layers import Dense, Conv2D, MaxPool2D, Flatten\n",
        "import matplotlib.pyplot as plt\n",
        "import numpy as np\n",
        "from keras.utils import to_categorical\n",
        "from keras.losses import BinaryCrossentropy\n"
      ]
    },
    {
      "cell_type": "markdown",
      "source": [
        "**IMPORT DATASET**"
      ],
      "metadata": {
        "id": "_oB90IEetRmC"
      }
    },
    {
      "cell_type": "code",
      "source": [
        "(X_train, Y_train), (X_test, Y_test)= mnist.load_data()"
      ],
      "metadata": {
        "colab": {
          "base_uri": "https://localhost:8080/"
        },
        "id": "f9aKtnZmZ2xg",
        "outputId": "13336512-670a-414c-a144-4b44c2d8d54f"
      },
      "execution_count": 3,
      "outputs": [
        {
          "output_type": "stream",
          "name": "stdout",
          "text": [
            "Downloading data from https://storage.googleapis.com/tensorflow/tf-keras-datasets/mnist.npz\n",
            "11490434/11490434 [==============================] - 0s 0us/step\n"
          ]
        }
      ]
    },
    {
      "cell_type": "code",
      "source": [
        "X_train.shape, X_test.shape"
      ],
      "metadata": {
        "colab": {
          "base_uri": "https://localhost:8080/"
        },
        "id": "0yLmCClUgQvB",
        "outputId": "608c75a2-79e7-4ad3-eb6f-10940b26afdb"
      },
      "execution_count": 4,
      "outputs": [
        {
          "output_type": "execute_result",
          "data": {
            "text/plain": [
              "((60000, 28, 28), (10000, 28, 28))"
            ]
          },
          "metadata": {},
          "execution_count": 4
        }
      ]
    },
    {
      "cell_type": "code",
      "source": [
        "plt.imshow(X_train[0])\n"
      ],
      "metadata": {
        "colab": {
          "base_uri": "https://localhost:8080/",
          "height": 448
        },
        "id": "RtkHYOcAb6-g",
        "outputId": "5becf166-3e62-4bbb-8e99-364f0a5abfa5"
      },
      "execution_count": 5,
      "outputs": [
        {
          "output_type": "execute_result",
          "data": {
            "text/plain": [
              "<matplotlib.image.AxesImage at 0x7cf520f137c0>"
            ]
          },
          "metadata": {},
          "execution_count": 5
        },
        {
          "output_type": "display_data",
          "data": {
            "text/plain": [
              "<Figure size 640x480 with 1 Axes>"
            ],
            "image/png": "[encoded data removed]"
          },
          "metadata": {}
        }
      ]
    },
    {
      "cell_type": "markdown",
      "source": [
        "**RESHPE AND ENCODE**"
      ],
      "metadata": {
        "id": "H3WIseJPtY5o"
      }
    },
    {
      "cell_type": "code",
      "source": [
        "X_train=X_train.reshape(60000,28,28,1)\n",
        "X_test=X_test.reshape(10000,28,28,1)"
      ],
      "metadata": {
        "id": "CGVoI53mdEwx"
      },
      "execution_count": 6,
      "outputs": []
    },
    {
      "cell_type": "code",
      "source": [
        "Y_training=to_categorical(Y_train, num_classes=10)\n",
        "Y_testing=to_categorical(Y_test, num_classes=10)\n",
        "print(Y_training[0], Y_training[1], Y_training[2])"
      ],
      "metadata": {
        "colab": {
          "base_uri": "https://localhost:8080/"
        },
        "id": "ePScrFi7dWfi",
        "outputId": "b116d16e-e1aa-4123-de11-b60ae3fee287"
      },
      "execution_count": 7,
      "outputs": [
        {
          "output_type": "stream",
          "name": "stdout",
          "text": [
            "[0. 0. 0. 0. 0. 1. 0. 0. 0. 0.] [1. 0. 0. 0. 0. 0. 0. 0. 0. 0.] [0. 0. 0. 0. 1. 0. 0. 0. 0. 0.]\n"
          ]
        }
      ]
    },
    {
      "cell_type": "markdown",
      "source": [
        "**BUILD THE NEURAL NETWORK**"
      ],
      "metadata": {
        "id": "jNvh6RRZtfWt"
      }
    },
    {
      "cell_type": "code",
      "source": [
        "\n",
        "model = Sequential([\n",
        "    Conv2D(32, kernel_size=3, activation='relu', input_shape=(28, 28, 1)),\n",
        "    MaxPool2D(pool_size=(2, 2), strides=None, padding='valid', data_format=None),\n",
        "    Flatten(),  # Flatten input image\n",
        "    Dense(units=25, activation='sigmoid'),\n",
        "    Dense(units=15, activation='sigmoid'),\n",
        "    Dense(units=10, activation='softmax')\n",
        "])\n"
      ],
      "metadata": {
        "id": "W2420gfElu7r"
      },
      "execution_count": 8,
      "outputs": []
    },
    {
      "cell_type": "code",
      "source": [
        "# FOR A SIMPLER NETWORK, WITH 93% ACCURACY:\n",
        "'''\n",
        "model = Sequential([\n",
        "    Flatten(input_shape=(28, 28, 1)),\n",
        "    Dense(units=25, activation='sigmoid'),\n",
        "    Dense(units=15, activation='sigmoid'),\n",
        "    Dense(units=10, activation='softmax')\n",
        "])\n",
        "'''\n"
      ],
      "metadata": {
        "colab": {
          "base_uri": "https://localhost:8080/",
          "height": 54
        },
        "id": "Q1qjCsEvt0A3",
        "outputId": "36f635de-ee85-42a4-c1d5-205c0ba17055"
      },
      "execution_count": 9,
      "outputs": [
        {
          "output_type": "execute_result",
          "data": {
            "text/plain": [
              "\"\\nmodel = Sequential([\\n    Flatten(input_shape=(28, 28, 1)),\\n    Dense(units=25, activation='sigmoid'),\\n    Dense(units=15, activation='sigmoid'),\\n    Dense(units=10, activation='softmax') \\n])\\n\""
            ],
            "application/vnd.google.colaboratory.intrinsic+json": {
              "type": "string"
            }
          },
          "metadata": {},
          "execution_count": 9
        }
      ]
    },
    {
      "cell_type": "code",
      "source": [
        "model.compile(optimizer='adam', loss='categorical_crossentropy', metrics=['accuracy'])"
      ],
      "metadata": {
        "id": "xQ9MZyzfoeQ8"
      },
      "execution_count": 10,
      "outputs": []
    },
    {
      "cell_type": "markdown",
      "source": [
        "**TRAIN**"
      ],
      "metadata": {
        "id": "bkKiZwxxtlYu"
      }
    },
    {
      "cell_type": "code",
      "source": [
        "model.fit(X_train, Y_training, validation_data=(X_test,Y_testing), epochs=50)"
      ],
      "metadata": {
        "colab": {
          "base_uri": "https://localhost:8080/"
        },
        "id": "SBH1xFNCiOaZ",
        "outputId": "03eae873-41b1-41d3-b2cc-71bf9545ca24"
      },
      "execution_count": 11,
      "outputs": [
        {
          "output_type": "stream",
          "name": "stdout",
          "text": [
            "Epoch 1/50\n",
            "1875/1875 [==============================] - 16s 6ms/step - loss: 1.0207 - accuracy: 0.7967 - val_loss: 0.2983 - val_accuracy: 0.9436\n",
            "Epoch 2/50\n",
            "1875/1875 [==============================] - 11s 6ms/step - loss: 0.2330 - accuracy: 0.9458 - val_loss: 0.1861 - val_accuracy: 0.9532\n",
            "Epoch 3/50\n",
            "1875/1875 [==============================] - 10s 5ms/step - loss: 0.1645 - accuracy: 0.9562 - val_loss: 0.1477 - val_accuracy: 0.9600\n",
            "Epoch 4/50\n",
            "1875/1875 [==============================] - 8s 4ms/step - loss: 0.1469 - accuracy: 0.9592 - val_loss: 0.1419 - val_accuracy: 0.9617\n",
            "Epoch 5/50\n",
            "1875/1875 [==============================] - 8s 4ms/step - loss: 0.1430 - accuracy: 0.9594 - val_loss: 0.1322 - val_accuracy: 0.9643\n",
            "Epoch 6/50\n",
            "1875/1875 [==============================] - 8s 4ms/step - loss: 0.1323 - accuracy: 0.9619 - val_loss: 0.1385 - val_accuracy: 0.9603\n",
            "Epoch 7/50\n",
            "1875/1875 [==============================] - 8s 4ms/step - loss: 0.1292 - accuracy: 0.9627 - val_loss: 0.1360 - val_accuracy: 0.9587\n",
            "Epoch 8/50\n",
            "1875/1875 [==============================] - 7s 4ms/step - loss: 0.1276 - accuracy: 0.9631 - val_loss: 0.1256 - val_accuracy: 0.9636\n",
            "Epoch 9/50\n",
            "1875/1875 [==============================] - 7s 4ms/step - loss: 0.1154 - accuracy: 0.9663 - val_loss: 0.1263 - val_accuracy: 0.9624\n",
            "Epoch 10/50\n",
            "1875/1875 [==============================] - 7s 4ms/step - loss: 0.1175 - accuracy: 0.9653 - val_loss: 0.1293 - val_accuracy: 0.9611\n",
            "Epoch 11/50\n",
            "1875/1875 [==============================] - 7s 4ms/step - loss: 0.1277 - accuracy: 0.9627 - val_loss: 0.1333 - val_accuracy: 0.9604\n",
            "Epoch 12/50\n",
            "1875/1875 [==============================] - 8s 4ms/step - loss: 0.1241 - accuracy: 0.9634 - val_loss: 0.1116 - val_accuracy: 0.9676\n",
            "Epoch 13/50\n",
            "1875/1875 [==============================] - 8s 4ms/step - loss: 0.1156 - accuracy: 0.9661 - val_loss: 0.1084 - val_accuracy: 0.9690\n",
            "Epoch 14/50\n",
            "1875/1875 [==============================] - 8s 4ms/step - loss: 0.1121 - accuracy: 0.9665 - val_loss: 0.1296 - val_accuracy: 0.9606\n",
            "Epoch 15/50\n",
            "1875/1875 [==============================] - 7s 4ms/step - loss: 0.1078 - accuracy: 0.9681 - val_loss: 0.1238 - val_accuracy: 0.9655\n",
            "Epoch 16/50\n",
            "1875/1875 [==============================] - 7s 4ms/step - loss: 0.1077 - accuracy: 0.9682 - val_loss: 0.1206 - val_accuracy: 0.9642\n",
            "Epoch 17/50\n",
            "1875/1875 [==============================] - 8s 4ms/step - loss: 0.1111 - accuracy: 0.9667 - val_loss: 0.1254 - val_accuracy: 0.9654\n",
            "Epoch 18/50\n",
            "1875/1875 [==============================] - 7s 4ms/step - loss: 0.1055 - accuracy: 0.9682 - val_loss: 0.1175 - val_accuracy: 0.9670\n",
            "Epoch 19/50\n",
            "1875/1875 [==============================] - 7s 4ms/step - loss: 0.1050 - accuracy: 0.9690 - val_loss: 0.1181 - val_accuracy: 0.9675\n",
            "Epoch 20/50\n",
            "1875/1875 [==============================] - 7s 4ms/step - loss: 0.1064 - accuracy: 0.9679 - val_loss: 0.1262 - val_accuracy: 0.9633\n",
            "Epoch 21/50\n",
            "1875/1875 [==============================] - 7s 4ms/step - loss: 0.1079 - accuracy: 0.9678 - val_loss: 0.1141 - val_accuracy: 0.9668\n",
            "Epoch 22/50\n",
            "1875/1875 [==============================] - 7s 4ms/step - loss: 0.0973 - accuracy: 0.9716 - val_loss: 0.1038 - val_accuracy: 0.9708\n",
            "Epoch 23/50\n",
            "1875/1875 [==============================] - 7s 4ms/step - loss: 0.0984 - accuracy: 0.9720 - val_loss: 0.1070 - val_accuracy: 0.9702\n",
            "Epoch 24/50\n",
            "1875/1875 [==============================] - 7s 4ms/step - loss: 0.0972 - accuracy: 0.9715 - val_loss: 0.1056 - val_accuracy: 0.9703\n",
            "Epoch 25/50\n",
            "1875/1875 [==============================] - 7s 4ms/step - loss: 0.0964 - accuracy: 0.9719 - val_loss: 0.1100 - val_accuracy: 0.9678\n",
            "Epoch 26/50\n",
            "1875/1875 [==============================] - 8s 4ms/step - loss: 0.1002 - accuracy: 0.9707 - val_loss: 0.1097 - val_accuracy: 0.9664\n",
            "Epoch 27/50\n",
            "1875/1875 [==============================] - 7s 4ms/step - loss: 0.1014 - accuracy: 0.9700 - val_loss: 0.1121 - val_accuracy: 0.9684\n",
            "Epoch 28/50\n",
            "1875/1875 [==============================] - 8s 4ms/step - loss: 0.0966 - accuracy: 0.9723 - val_loss: 0.1030 - val_accuracy: 0.9715\n",
            "Epoch 29/50\n",
            "1875/1875 [==============================] - 7s 4ms/step - loss: 0.0966 - accuracy: 0.9717 - val_loss: 0.1129 - val_accuracy: 0.9684\n",
            "Epoch 30/50\n",
            "1875/1875 [==============================] - 7s 4ms/step - loss: 0.0920 - accuracy: 0.9728 - val_loss: 0.1062 - val_accuracy: 0.9687\n",
            "Epoch 31/50\n",
            "1875/1875 [==============================] - 8s 4ms/step - loss: 0.0960 - accuracy: 0.9718 - val_loss: 0.1188 - val_accuracy: 0.9664\n",
            "Epoch 32/50\n",
            "1875/1875 [==============================] - 7s 4ms/step - loss: 0.0973 - accuracy: 0.9716 - val_loss: 0.1097 - val_accuracy: 0.9683\n",
            "Epoch 33/50\n",
            "1875/1875 [==============================] - 8s 4ms/step - loss: 0.0940 - accuracy: 0.9724 - val_loss: 0.1111 - val_accuracy: 0.9672\n",
            "Epoch 34/50\n",
            "1875/1875 [==============================] - 7s 4ms/step - loss: 0.0934 - accuracy: 0.9725 - val_loss: 0.1220 - val_accuracy: 0.9650\n",
            "Epoch 35/50\n",
            "1875/1875 [==============================] - 7s 4ms/step - loss: 0.0958 - accuracy: 0.9714 - val_loss: 0.1049 - val_accuracy: 0.9700\n",
            "Epoch 36/50\n",
            "1875/1875 [==============================] - 8s 4ms/step - loss: 0.0986 - accuracy: 0.9708 - val_loss: 0.1124 - val_accuracy: 0.9673\n",
            "Epoch 37/50\n",
            "1875/1875 [==============================] - 7s 4ms/step - loss: 0.0984 - accuracy: 0.9708 - val_loss: 0.1010 - val_accuracy: 0.9698\n",
            "Epoch 38/50\n",
            "1875/1875 [==============================] - 7s 4ms/step - loss: 0.1021 - accuracy: 0.9693 - val_loss: 0.1054 - val_accuracy: 0.9696\n",
            "Epoch 39/50\n",
            "1875/1875 [==============================] - 7s 4ms/step - loss: 0.1036 - accuracy: 0.9695 - val_loss: 0.1063 - val_accuracy: 0.9707\n",
            "Epoch 40/50\n",
            "1875/1875 [==============================] - 8s 5ms/step - loss: 0.0981 - accuracy: 0.9716 - val_loss: 0.0994 - val_accuracy: 0.9714\n",
            "Epoch 41/50\n",
            "1875/1875 [==============================] - 7s 4ms/step - loss: 0.0917 - accuracy: 0.9721 - val_loss: 0.1035 - val_accuracy: 0.9698\n",
            "Epoch 42/50\n",
            "1875/1875 [==============================] - 8s 4ms/step - loss: 0.0903 - accuracy: 0.9739 - val_loss: 0.1028 - val_accuracy: 0.9704\n",
            "Epoch 43/50\n",
            "1875/1875 [==============================] - 7s 4ms/step - loss: 0.0925 - accuracy: 0.9731 - val_loss: 0.1082 - val_accuracy: 0.9695\n",
            "Epoch 44/50\n",
            "1875/1875 [==============================] - 7s 4ms/step - loss: 0.0909 - accuracy: 0.9732 - val_loss: 0.1031 - val_accuracy: 0.9711\n",
            "Epoch 45/50\n",
            "1875/1875 [==============================] - 7s 4ms/step - loss: 0.0921 - accuracy: 0.9736 - val_loss: 0.1091 - val_accuracy: 0.9670\n",
            "Epoch 46/50\n",
            "1875/1875 [==============================] - 7s 3ms/step - loss: 0.0898 - accuracy: 0.9735 - val_loss: 0.1135 - val_accuracy: 0.9667\n",
            "Epoch 47/50\n",
            "1875/1875 [==============================] - 8s 4ms/step - loss: 0.0868 - accuracy: 0.9750 - val_loss: 0.1050 - val_accuracy: 0.9703\n",
            "Epoch 48/50\n",
            "1875/1875 [==============================] - 6s 3ms/step - loss: 0.0852 - accuracy: 0.9750 - val_loss: 0.1086 - val_accuracy: 0.9706\n",
            "Epoch 49/50\n",
            "1875/1875 [==============================] - 7s 4ms/step - loss: 0.0938 - accuracy: 0.9717 - val_loss: 0.1129 - val_accuracy: 0.9688\n",
            "Epoch 50/50\n",
            "1875/1875 [==============================] - 7s 4ms/step - loss: 0.0928 - accuracy: 0.9732 - val_loss: 0.1134 - val_accuracy: 0.9678\n"
          ]
        },
        {
          "output_type": "execute_result",
          "data": {
            "text/plain": [
              "<keras.src.callbacks.History at 0x7cf5128b9120>"
            ]
          },
          "metadata": {},
          "execution_count": 11
        }
      ]
    },
    {
      "cell_type": "markdown",
      "source": [
        "**TEST THE TRAINED MODEL**"
      ],
      "metadata": {
        "id": "FnBgb1HqtpAh"
      }
    },
    {
      "cell_type": "code",
      "source": [
        "predictions= model.predict(X_test)\n",
        "predicted_classes= predictions.argmax(axis=1)\n",
        "plt.imshow(X_test[0])\n",
        "print(f'Predicted Class is: {predicted_classes[0]}')"
      ],
      "metadata": {
        "colab": {
          "base_uri": "https://localhost:8080/",
          "height": 466
        },
        "id": "daI_t65YsdkA",
        "outputId": "4d6e8abf-0417-47f7-bb1a-36f1bc6daf23"
      },
      "execution_count": 14,
      "outputs": [
        {
          "output_type": "stream",
          "name": "stdout",
          "text": [
            "313/313 [==============================] - 1s 2ms/step\n",
            "Predicted Class is: 7\n"
          ]
        },
        {
          "output_type": "display_data",
          "data": {
            "text/plain": [
              "<Figure size 640x480 with 1 Axes>"
            ],
            "image/png": "[encoded data removed]"
          },
          "metadata": {}
        }
      ]
    },
    {
      "cell_type": "code",
      "source": [
        "predictions= model.predict(X_test)\n",
        "predicted_classes= predictions.argmax(axis=1)\n",
        "plt.imshow(X_test[25])\n",
        "print(f'Predicted Class is: {predicted_classes[25]}')"
      ],
      "metadata": {
        "colab": {
          "base_uri": "https://localhost:8080/",
          "height": 466
        },
        "id": "1KWeAOYmtCcB",
        "outputId": "043944a7-ace7-4afd-cff4-56994b63197b"
      },
      "execution_count": 17,
      "outputs": [
        {
          "output_type": "stream",
          "name": "stdout",
          "text": [
            "313/313 [==============================] - 1s 3ms/step\n",
            "Predicted Class is: 0\n"
          ]
        },
        {
          "output_type": "display_data",
          "data": {
            "text/plain": [
              "<Figure size 640x480 with 1 Axes>"
            ],
            "image/png": "[encoded data removed]"
          },
          "metadata": {}
        }
      ]
    },
    {
      "cell_type": "markdown",
      "source": [
        "\n",
        "\n",
        "> Hafsa Rafique\n",
        "\n",
        "\n",
        "\n",
        "\n",
        "\n",
        "\n"
      ],
      "metadata": {
        "id": "BI8e5My-ubmZ"
      }
    }
  ]
}